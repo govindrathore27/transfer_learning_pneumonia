{
  "nbformat": 4,
  "nbformat_minor": 0,
  "metadata": {
    "colab": {
      "name": "Transfer_Learning_pneumonia",
      "provenance": [],
      "collapsed_sections": [],
      "include_colab_link": true
    },
    "kernelspec": {
      "name": "python3",
      "display_name": "Python 3"
    },
    "accelerator": "GPU"
  },
  "cells": [
    {
      "cell_type": "markdown",
      "metadata": {
        "id": "view-in-github",
        "colab_type": "text"
      },
      "source": [
        "<a href=\"https://colab.research.google.com/github/govindrathore27/transfer_learning_pneumonia/blob/main/Transfer_Learning_pneumonia.ipynb\" target=\"_parent\"><img src=\"https://colab.research.google.com/assets/colab-badge.svg\" alt=\"Open In Colab\"/></a>"
      ]
    },
    {
      "cell_type": "code",
      "metadata": {
        "id": "YuV1LeENCNUI"
      },
      "source": [
        "!pip install -q kaggle"
      ],
      "execution_count": null,
      "outputs": []
    },
    {
      "cell_type": "code",
      "metadata": {
        "id": "EQqCyFT-CTnw",
        "outputId": "e06e8374-5a23-4fa7-bf44-1ee9413319c8",
        "colab": {
          "resources": {
            "http://localhost:8080/nbextensions/google.colab/files.js": {
              "data": "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",
              "ok": true,
              "headers": [
                [
                  "content-type",
                  "application/javascript"
                ]
              ],
              "status": 200,
              "status_text": ""
            }
          },
          "base_uri": "https://localhost:8080/",
          "height": 89
        }
      },
      "source": [
        "from google.colab import files\n",
        "files.upload()"
      ],
      "execution_count": null,
      "outputs": [
        {
          "output_type": "display_data",
          "data": {
            "text/html": [
              "\n",
              "     <input type=\"file\" id=\"files-3a6a835b-fb78-4ed4-9236-d3df328d34bc\" name=\"files[]\" multiple disabled\n",
              "        style=\"border:none\" />\n",
              "     <output id=\"result-3a6a835b-fb78-4ed4-9236-d3df328d34bc\">\n",
              "      Upload widget is only available when the cell has been executed in the\n",
              "      current browser session. Please rerun this cell to enable.\n",
              "      </output>\n",
              "      <script src=\"/nbextensions/google.colab/files.js\"></script> "
            ],
            "text/plain": [
              "<IPython.core.display.HTML object>"
            ]
          },
          "metadata": {
            "tags": []
          }
        },
        {
          "output_type": "stream",
          "text": [
            "Saving kaggle.json to kaggle.json\n"
          ],
          "name": "stdout"
        },
        {
          "output_type": "execute_result",
          "data": {
            "text/plain": [
              "{'kaggle.json': b'{\"username\":\"govindsrathore\",\"key\":\"f85d4f6feb7a1535183898e2c3fa59a0\"}'}"
            ]
          },
          "metadata": {
            "tags": []
          },
          "execution_count": 3
        }
      ]
    },
    {
      "cell_type": "code",
      "metadata": {
        "id": "3jSLKimQCxH_",
        "outputId": "ee74a3a6-359a-4808-f9e8-6f6a4fc02fd3",
        "colab": {
          "base_uri": "https://localhost:8080/",
          "height": 34
        }
      },
      "source": [
        "!mkdir ~/.kaggle\n",
        "!cp kaggle.json ~/.kaggle/"
      ],
      "execution_count": null,
      "outputs": [
        {
          "output_type": "stream",
          "text": [
            "mkdir: cannot create directory ‘/root/.kaggle’: File exists\n"
          ],
          "name": "stdout"
        }
      ]
    },
    {
      "cell_type": "code",
      "metadata": {
        "id": "Prjxq1eBDG8n"
      },
      "source": [
        "!chmod 600  ~/.kaggle/kaggle.json"
      ],
      "execution_count": null,
      "outputs": []
    },
    {
      "cell_type": "code",
      "metadata": {
        "id": "FOyZtnKQDPSr",
        "outputId": "de49cadf-b97a-46d2-8c56-a398092d4db1",
        "colab": {
          "base_uri": "https://localhost:8080/",
          "height": 68
        }
      },
      "source": [
        "!kaggle datasets download -d paultimothymooney/chest-xray-pneumonia"
      ],
      "execution_count": null,
      "outputs": [
        {
          "output_type": "stream",
          "text": [
            "Downloading chest-xray-pneumonia.zip to /content\n",
            "100% 2.28G/2.29G [00:29<00:00, 34.3MB/s]\n",
            "100% 2.29G/2.29G [00:30<00:00, 81.8MB/s]\n"
          ],
          "name": "stdout"
        }
      ]
    },
    {
      "cell_type": "code",
      "metadata": {
        "id": "NpH0DXmhDpr7"
      },
      "source": [
        "from keras.applications import VGG16\n",
        "import numpy as np\n",
        "import matplotlib.pyplot as plt\n",
        "import pandas as pd\n",
        "from keras.preprocessing.image import ImageDataGenerator\n",
        "import keras\n",
        "import os\n",
        "import zipfile"
      ],
      "execution_count": null,
      "outputs": []
    },
    {
      "cell_type": "code",
      "metadata": {
        "id": "B0WokdjjEfMK"
      },
      "source": [
        "!mkdir chest_xray_pneumonia"
      ],
      "execution_count": null,
      "outputs": []
    },
    {
      "cell_type": "code",
      "metadata": {
        "id": "vZiMWlfeEjv5",
        "outputId": "c0da61af-571b-444a-da6f-d6fb2118ae73",
        "colab": {
          "base_uri": "https://localhost:8080/",
          "height": 34
        }
      },
      "source": [
        "!ls"
      ],
      "execution_count": null,
      "outputs": [
        {
          "output_type": "stream",
          "text": [
            "chest_xray_pneumonia  chest-xray-pneumonia.zip\tkaggle.json  sample_data\n"
          ],
          "name": "stdout"
        }
      ]
    },
    {
      "cell_type": "code",
      "metadata": {
        "id": "a51CTG25DyE-"
      },
      "source": [
        "with zipfile.ZipFile(\"chest-xray-pneumonia.zip\",\"r\") as z:\n",
        "    z.extractall(\"chest_xray_pneumonia\")"
      ],
      "execution_count": null,
      "outputs": []
    },
    {
      "cell_type": "code",
      "metadata": {
        "id": "sJuW04BzD0SD"
      },
      "source": [
        "main_path = \"chest_xray_pneumonia/chest_xray\""
      ],
      "execution_count": null,
      "outputs": []
    },
    {
      "cell_type": "code",
      "metadata": {
        "id": "WnqmK9lnE8tD"
      },
      "source": [
        "train_path = os.path.join(main_path,'train')\n",
        "test_path=os.path.join(main_path,\"test\")\n",
        "val_path=os.path.join(main_path,\"val\")"
      ],
      "execution_count": null,
      "outputs": []
    },
    {
      "cell_type": "code",
      "metadata": {
        "id": "8D-VdZsjFF1y"
      },
      "source": [
        "train_Datagen = ImageDataGenerator(\n",
        "    rescale =1/255,\n",
        "    shear_range=10,\n",
        "    zoom_range = 0.2,\n",
        "    horizontal_flip = True,\n",
        "    width_shift_range=0.2,\n",
        "    height_shift_range=0.2,\n",
        "    rotation_range=40,\n",
        "    fill_mode = 'nearest',\n",
        ")\n",
        "val_datagen = ImageDataGenerator(\n",
        "    rescale = 1/255\n",
        ")"
      ],
      "execution_count": null,
      "outputs": []
    },
    {
      "cell_type": "code",
      "metadata": {
        "id": "8p4J8YaCFIU4"
      },
      "source": [
        "conv_base = VGG16(include_top = False,weights='imagenet')\n",
        "for i in conv_base.layers:\n",
        "    i.trainable=False\n",
        "X = conv_base.output\n",
        "X = keras.layers.GlobalAveragePooling2D()(X)\n",
        "X = keras.layers.Dense(128,activation='relu')(X)\n",
        "predictions = keras.layers.Dense(1,activation='sigmoid')(X)\n",
        "model= keras.Model(conv_base.input,predictions)\n",
        "model.compile(loss='binary_crossentropy',\n",
        "             optimizer='rmsprop',\n",
        "             metrics=['accuracy'])"
      ],
      "execution_count": null,
      "outputs": []
    },
    {
      "cell_type": "code",
      "metadata": {
        "id": "1W3sMv6YFLiK",
        "outputId": "cf50ddbf-de79-419a-ade3-49272c277086",
        "colab": {
          "base_uri": "https://localhost:8080/",
          "height": 68
        }
      },
      "source": [
        "train_generator=train_Datagen.flow_from_directory(\n",
        "    train_path,\n",
        "    target_size=(150,150),\n",
        "    batch_size=32,\n",
        "    class_mode='binary'\n",
        ")\n",
        "validation_generator = val_datagen.flow_from_directory(\n",
        "        val_path,\n",
        "        target_size=(150, 150),\n",
        "        batch_size=16,\n",
        "        class_mode='binary'\n",
        ")\n",
        "test_generator = val_datagen.flow_from_directory(\n",
        "    test_path,\n",
        "    target_size=(150,150),\n",
        "    batch_size=32,\n",
        "    class_mode='binary'\n",
        ")"
      ],
      "execution_count": null,
      "outputs": [
        {
          "output_type": "stream",
          "text": [
            "Found 5216 images belonging to 2 classes.\n",
            "Found 16 images belonging to 2 classes.\n",
            "Found 624 images belonging to 2 classes.\n"
          ],
          "name": "stdout"
        }
      ]
    },
    {
      "cell_type": "code",
      "metadata": {
        "id": "dhagBERlFcpK"
      },
      "source": [
        "model.fit_generator(\n",
        "    train_generator,\n",
        "    steps_per_epoch = 50,\n",
        "    epochs=100,\n",
        "    validation_data = validation_generator\n",
        ")"
      ],
      "execution_count": null,
      "outputs": []
    },
    {
      "cell_type": "code",
      "metadata": {
        "id": "Nlv9VuXRFgY8"
      },
      "source": [
        "accuracy=model.evaluate_generator(test_generator,624)[1]"
      ],
      "execution_count": null,
      "outputs": []
    },
    {
      "cell_type": "code",
      "metadata": {
        "id": "28_N-E7hOk86",
        "outputId": "199c57ff-8f4e-4034-98b1-9cd2ca2caafd",
        "colab": {
          "base_uri": "https://localhost:8080/",
          "height": 34
        }
      },
      "source": [
        "accuracy"
      ],
      "execution_count": null,
      "outputs": [
        {
          "output_type": "execute_result",
          "data": {
            "text/plain": [
              "0.8862179517745972"
            ]
          },
          "metadata": {
            "tags": []
          },
          "execution_count": 21
        }
      ]
    },
    {
      "cell_type": "code",
      "metadata": {
        "id": "0M0PsW1UOxNd"
      },
      "source": [
        "#unfreeze to fine-tune the model and increase the accuracy\n",
        "for i in conv_base.layers:\n",
        "  i.trainable = True\n"
      ],
      "execution_count": null,
      "outputs": []
    },
    {
      "cell_type": "code",
      "metadata": {
        "id": "1k3kZZ6GEVzz"
      },
      "source": [
        "model.compile(optimizer=keras.optimizers.Adam(1e-5),  # Very low learning rate\n",
        "              loss=keras.losses.BinaryCrossentropy(from_logits=True),\n",
        "              metrics=[keras.metrics.BinaryAccuracy()])"
      ],
      "execution_count": null,
      "outputs": []
    },
    {
      "cell_type": "code",
      "metadata": {
        "id": "kCgX6IqXEnKw",
        "outputId": "39a5186d-64da-43a6-b4e6-ee9c8b574e89",
        "colab": {
          "base_uri": "https://localhost:8080/",
          "height": 1000
        }
      },
      "source": [
        "model.fit_generator(\n",
        "    train_generator,\n",
        "    steps_per_epoch = 50,\n",
        "    epochs=100,\n",
        "    validation_data = validation_generator\n",
        ")"
      ],
      "execution_count": null,
      "outputs": [
        {
          "output_type": "stream",
          "text": [
            "50/50 [==============================] - 33s 663ms/step - loss: 0.4295 - binary_accuracy: 0.9581 - val_loss: 0.6582 - val_binary_accuracy: 0.7500\n",
            "Epoch 62/100\n",
            "50/50 [==============================] - 33s 663ms/step - loss: 0.4278 - binary_accuracy: 0.9706 - val_loss: 0.7351 - val_binary_accuracy: 0.6250\n",
            "Epoch 63/100\n",
            "50/50 [==============================] - 33s 665ms/step - loss: 0.4263 - binary_accuracy: 0.9700 - val_loss: 0.6595 - val_binary_accuracy: 0.7500\n",
            "Epoch 64/100\n",
            "50/50 [==============================] - 33s 662ms/step - loss: 0.4234 - binary_accuracy: 0.9719 - val_loss: 0.6198 - val_binary_accuracy: 0.8125\n",
            "Epoch 65/100\n",
            "50/50 [==============================] - 33s 663ms/step - loss: 0.4311 - binary_accuracy: 0.9650 - val_loss: 0.7357 - val_binary_accuracy: 0.6250\n",
            "Epoch 66/100\n",
            "50/50 [==============================] - 33s 669ms/step - loss: 0.4267 - binary_accuracy: 0.9594 - val_loss: 0.5834 - val_binary_accuracy: 0.8750\n",
            "Epoch 67/100\n",
            "50/50 [==============================] - 34s 675ms/step - loss: 0.4305 - binary_accuracy: 0.9619 - val_loss: 0.7357 - val_binary_accuracy: 0.6250\n",
            "Epoch 68/100\n",
            "50/50 [==============================] - 34s 678ms/step - loss: 0.4324 - binary_accuracy: 0.9669 - val_loss: 0.7357 - val_binary_accuracy: 0.6250\n",
            "Epoch 69/100\n",
            "50/50 [==============================] - 33s 663ms/step - loss: 0.4257 - binary_accuracy: 0.9588 - val_loss: 0.6886 - val_binary_accuracy: 0.6875\n",
            "Epoch 70/100\n",
            "50/50 [==============================] - 33s 667ms/step - loss: 0.4259 - binary_accuracy: 0.9762 - val_loss: 0.7357 - val_binary_accuracy: 0.6250\n",
            "Epoch 71/100\n",
            "50/50 [==============================] - 33s 670ms/step - loss: 0.4237 - binary_accuracy: 0.9669 - val_loss: 0.7357 - val_binary_accuracy: 0.6250\n",
            "Epoch 72/100\n",
            "50/50 [==============================] - 33s 656ms/step - loss: 0.4217 - binary_accuracy: 0.9675 - val_loss: 0.7253 - val_binary_accuracy: 0.6250\n",
            "Epoch 73/100\n",
            "50/50 [==============================] - 34s 670ms/step - loss: 0.4312 - binary_accuracy: 0.9581 - val_loss: 0.6196 - val_binary_accuracy: 0.8125\n",
            "Epoch 74/100\n",
            "50/50 [==============================] - 34s 675ms/step - loss: 0.4296 - binary_accuracy: 0.9750 - val_loss: 0.6195 - val_binary_accuracy: 0.8125\n",
            "Epoch 75/100\n",
            "50/50 [==============================] - 33s 663ms/step - loss: 0.4290 - binary_accuracy: 0.9650 - val_loss: 0.6016 - val_binary_accuracy: 0.8125\n",
            "Epoch 76/100\n",
            "50/50 [==============================] - 34s 675ms/step - loss: 0.4345 - binary_accuracy: 0.9569 - val_loss: 0.7357 - val_binary_accuracy: 0.6250\n",
            "Epoch 77/100\n",
            "50/50 [==============================] - 33s 657ms/step - loss: 0.4305 - binary_accuracy: 0.9600 - val_loss: 0.5421 - val_binary_accuracy: 0.9375\n",
            "Epoch 78/100\n",
            "50/50 [==============================] - 33s 658ms/step - loss: 0.4210 - binary_accuracy: 0.9731 - val_loss: 0.6573 - val_binary_accuracy: 0.7500\n",
            "Epoch 79/100\n",
            "50/50 [==============================] - 33s 664ms/step - loss: 0.4304 - binary_accuracy: 0.9731 - val_loss: 0.6915 - val_binary_accuracy: 0.6875\n",
            "Epoch 80/100\n",
            "50/50 [==============================] - 33s 661ms/step - loss: 0.4255 - binary_accuracy: 0.9681 - val_loss: 0.7357 - val_binary_accuracy: 0.6250\n",
            "Epoch 81/100\n",
            "50/50 [==============================] - 33s 661ms/step - loss: 0.4267 - binary_accuracy: 0.9656 - val_loss: 0.5426 - val_binary_accuracy: 0.9375\n",
            "Epoch 82/100\n",
            "50/50 [==============================] - 33s 662ms/step - loss: 0.4381 - binary_accuracy: 0.9425 - val_loss: 0.5420 - val_binary_accuracy: 0.9375\n",
            "Epoch 83/100\n",
            "50/50 [==============================] - 33s 663ms/step - loss: 0.4264 - binary_accuracy: 0.9644 - val_loss: 0.7357 - val_binary_accuracy: 0.6250\n",
            "Epoch 84/100\n",
            "50/50 [==============================] - 33s 666ms/step - loss: 0.4334 - binary_accuracy: 0.9569 - val_loss: 0.7077 - val_binary_accuracy: 0.6250\n",
            "Epoch 85/100\n",
            "50/50 [==============================] - 33s 660ms/step - loss: 0.4237 - binary_accuracy: 0.9694 - val_loss: 0.5419 - val_binary_accuracy: 0.9375\n",
            "Epoch 86/100\n",
            "50/50 [==============================] - 33s 660ms/step - loss: 0.4242 - binary_accuracy: 0.9694 - val_loss: 0.6196 - val_binary_accuracy: 0.8125\n",
            "Epoch 87/100\n",
            "50/50 [==============================] - 33s 660ms/step - loss: 0.4307 - binary_accuracy: 0.9656 - val_loss: 0.6705 - val_binary_accuracy: 0.7500\n",
            "Epoch 88/100\n",
            "50/50 [==============================] - 33s 660ms/step - loss: 0.4268 - binary_accuracy: 0.9712 - val_loss: 0.6547 - val_binary_accuracy: 0.7500\n",
            "Epoch 89/100\n",
            "50/50 [==============================] - 33s 654ms/step - loss: 0.4257 - binary_accuracy: 0.9750 - val_loss: 0.6582 - val_binary_accuracy: 0.7500\n",
            "Epoch 90/100\n",
            "50/50 [==============================] - 33s 657ms/step - loss: 0.4237 - binary_accuracy: 0.9775 - val_loss: 0.7356 - val_binary_accuracy: 0.6250\n",
            "Epoch 91/100\n",
            "50/50 [==============================] - 33s 668ms/step - loss: 0.4366 - binary_accuracy: 0.9550 - val_loss: 0.6822 - val_binary_accuracy: 0.6875\n",
            "Epoch 92/100\n",
            "50/50 [==============================] - 33s 657ms/step - loss: 0.4174 - binary_accuracy: 0.9725 - val_loss: 0.6583 - val_binary_accuracy: 0.7500\n",
            "Epoch 93/100\n",
            "50/50 [==============================] - 33s 658ms/step - loss: 0.4294 - binary_accuracy: 0.9688 - val_loss: 0.6981 - val_binary_accuracy: 0.6875\n",
            "Epoch 94/100\n",
            "50/50 [==============================] - 33s 650ms/step - loss: 0.4215 - binary_accuracy: 0.9588 - val_loss: 0.6970 - val_binary_accuracy: 0.6875\n",
            "Epoch 95/100\n",
            "50/50 [==============================] - 33s 662ms/step - loss: 0.4268 - binary_accuracy: 0.9712 - val_loss: 0.7355 - val_binary_accuracy: 0.6250\n",
            "Epoch 96/100\n",
            "50/50 [==============================] - 33s 656ms/step - loss: 0.4371 - binary_accuracy: 0.9500 - val_loss: 0.7357 - val_binary_accuracy: 0.6250\n",
            "Epoch 97/100\n",
            "50/50 [==============================] - 33s 651ms/step - loss: 0.4264 - binary_accuracy: 0.9625 - val_loss: 0.6977 - val_binary_accuracy: 0.6875\n",
            "Epoch 98/100\n",
            "50/50 [==============================] - 33s 666ms/step - loss: 0.4246 - binary_accuracy: 0.9762 - val_loss: 0.6973 - val_binary_accuracy: 0.6875\n",
            "Epoch 99/100\n",
            "50/50 [==============================] - 33s 662ms/step - loss: 0.4229 - binary_accuracy: 0.9756 - val_loss: 0.7357 - val_binary_accuracy: 0.6250\n",
            "Epoch 100/100\n",
            "50/50 [==============================] - 33s 657ms/step - loss: 0.4229 - binary_accuracy: 0.9775 - val_loss: 0.6970 - val_binary_accuracy: 0.6875\n"
          ],
          "name": "stdout"
        },
        {
          "output_type": "execute_result",
          "data": {
            "text/plain": [
              "<tensorflow.python.keras.callbacks.History at 0x7fa74d9872b0>"
            ]
          },
          "metadata": {
            "tags": []
          },
          "execution_count": 24
        }
      ]
    },
    {
      "cell_type": "code",
      "metadata": {
        "id": "W4DxoonIEvkb",
        "outputId": "04098d9e-bf2f-4338-f442-026b35a0aaa9",
        "colab": {
          "base_uri": "https://localhost:8080/",
          "height": 54
        }
      },
      "source": [
        "final_accuracy = model.evaluate_generator(test_generator,624)[1]"
      ],
      "execution_count": null,
      "outputs": [
        {
          "output_type": "stream",
          "text": [
            "WARNING:tensorflow:Your input ran out of data; interrupting training. Make sure that your dataset or generator can generate at least `steps_per_epoch * epochs` batches (in this case, 624 batches). You may need to use the repeat() function when building your dataset.\n"
          ],
          "name": "stdout"
        }
      ]
    },
    {
      "cell_type": "code",
      "metadata": {
        "id": "OOs6TSZJSChA",
        "outputId": "73396de3-c3b4-4928-9f55-9560d84c3ad4",
        "colab": {
          "base_uri": "https://localhost:8080/",
          "height": 34
        }
      },
      "source": [
        "final_accuracy"
      ],
      "execution_count": null,
      "outputs": [
        {
          "output_type": "execute_result",
          "data": {
            "text/plain": [
              "0.9038461446762085"
            ]
          },
          "metadata": {
            "tags": []
          },
          "execution_count": 27
        }
      ]
    },
    {
      "cell_type": "code",
      "metadata": {
        "id": "ahWht6JRSGiK"
      },
      "source": [
        ""
      ],
      "execution_count": null,
      "outputs": []
    }
  ]
}